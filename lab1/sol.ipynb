{
 "cells": [
  {
   "cell_type": "markdown",
   "metadata": {},
   "source": [
    "# Στοχαστικές Διαδικασίες - 1η Εργαστηριακή Άσκηση\n",
    "\n",
    "## Στοιχεία Φοιτητή:\n",
    "* Ονοματεπώνυμο: Ιωάννης Δάρας\n",
    "* Αριθμός Μητρώου: 03115018\n",
    "* Σχολή: ΗΜΜΥ, ΕΜΠ\n",
    "* Εξάμηνο: 8ο\n",
    "* E-mail: daras.giannhs@gmail.com"
   ]
  },
  {
   "cell_type": "markdown",
   "metadata": {},
   "source": [
    "## Κώδικας\n",
    "Αρχικά, κάνουμε import την βιβλιοθήκη που μοντελοποιεί την Μαρκοβιανή Αλυσίδα."
   ]
  },
  {
   "cell_type": "code",
   "execution_count": 1,
   "metadata": {},
   "outputs": [],
   "source": [
    "from simple_markov_chain_lib import markov_chain "
   ]
  },
  {
   "cell_type": "markdown",
   "metadata": {},
   "source": [
    "Ορίζουμε μια σταθερά που περιγράφει τον αριθμό των βημάτων για τα οποία θα εκτελέσουμε την Μαρκοβιανή μας αλυσίδα. Ακολουθώντας το PEP8 πρότυπο, οι σταθερές ορίζονται ως μεταβλητές με όνομα σε κεφαλαία."
   ]
  },
  {
   "cell_type": "code",
   "execution_count": 2,
   "metadata": {},
   "outputs": [],
   "source": [
    "STEPS = 20"
   ]
  },
  {
   "cell_type": "markdown",
   "metadata": {},
   "source": [
    "Στη συνέχεια, από το σχήμα που μας δίνεται φτιάχνουμε τον πίνακα μεταβάσεων\n",
    "$$P = \\begin{bmatrix}0 & 0.5 & 0.5 & 0 & 0  \\\\ 0.5 & 0 & 0.5 & 0 & 0 \\\\ 0.25 & 0.25 & 0 & 0.25 & 0.25 \\\\ 0 & 0 & 1 & 0 & 0\\\\ 0 & 0 & 1 & 0 & 0\\end{bmatrix}$$\n",
    "που περιγράφει την αλυσίδα. "
   ]
  },
  {
   "cell_type": "code",
   "execution_count": 3,
   "metadata": {},
   "outputs": [],
   "source": [
    "markov_table = {\n",
    "    'Β': {'Κ': 0.5, 'Σ': 0.5},\n",
    "    'Κ': {'Β': 0.5, 'Σ': 0.5},\n",
    "    'Σ': {'Β': 0.25, 'Κ': 0.25, 'Υ': 0.25, 'Μ': 0.25},\n",
    "    'Υ': {'Σ': 1},\n",
    "    'Μ': {'Σ': 1}\n",
    "}"
   ]
  },
  {
   "cell_type": "markdown",
   "metadata": {},
   "source": [
    "Αφού αρχικά το έντομο βρίσκεται στο μπάνιο, ο πίνακας πιθανοτήτων της αρχικής κατανομής είναι:"
   ]
  },
  {
   "cell_type": "code",
   "execution_count": 4,
   "metadata": {},
   "outputs": [],
   "source": [
    "init_dist = {\n",
    "    'Μ': 1.0\n",
    "}"
   ]
  },
  {
   "cell_type": "markdown",
   "metadata": {},
   "source": [
    "Δημιουργούμε την αλύσίδα:"
   ]
  },
  {
   "cell_type": "code",
   "execution_count": 5,
   "metadata": {},
   "outputs": [],
   "source": [
    "mc = markov_chain(markov_table, init_dist)"
   ]
  },
  {
   "cell_type": "markdown",
   "metadata": {},
   "source": [
    "Εκτελούμε την αλυσίδα για τα 20 πρώτα βήματα και για κάθε βήμα τυπώνουμε τα αντίστοιχα διαγνωστικά μηνύματα."
   ]
  },
  {
   "cell_type": "code",
   "execution_count": 6,
   "metadata": {},
   "outputs": [
    {
     "name": "stdout",
     "output_type": "stream",
     "text": [
      "At time 0 chain is in state Μ\n",
      "At time 1 chain is in state Σ\n",
      "At time 2 chain is in state Κ\n",
      "At time 3 chain is in state Σ\n",
      "At time 4 chain is in state Υ\n",
      "At time 5 chain is in state Σ\n",
      "At time 6 chain is in state Β\n",
      "At time 7 chain is in state Κ\n",
      "At time 8 chain is in state Β\n",
      "At time 9 chain is in state Σ\n",
      "At time 10 chain is in state Κ\n",
      "At time 11 chain is in state Β\n",
      "At time 12 chain is in state Κ\n",
      "At time 13 chain is in state Β\n",
      "At time 14 chain is in state Σ\n",
      "At time 15 chain is in state Υ\n",
      "At time 16 chain is in state Σ\n",
      "At time 17 chain is in state Κ\n",
      "At time 18 chain is in state Β\n",
      "At time 19 chain is in state Κ\n",
      "At time 20 chain is in state Σ\n"
     ]
    }
   ],
   "source": [
    "mc.start()\n",
    "print('At time {} chain is in state {}'.format(mc.steps, mc.running_state))\n",
    "for i in range(STEPS):\n",
    "    mc.move()\n",
    "    print('At time {} chain is in state {}'.format(mc.steps, mc.running_state))"
   ]
  },
  {
   "cell_type": "markdown",
   "metadata": {},
   "source": [
    "Τέλος, βάζουμε ένα ακόμα κελί για να τυπώνεται ένα δικό μας μήνυμα, όπως ζητείται στην εκφώνηση:"
   ]
  },
  {
   "cell_type": "code",
   "execution_count": 7,
   "metadata": {},
   "outputs": [
    {
     "name": "stdout",
     "output_type": "stream",
     "text": [
      "Markov chains are great\n"
     ]
    }
   ],
   "source": [
    "print('Markov chains are great')"
   ]
  }
 ],
 "metadata": {
  "kernelspec": {
   "display_name": "Python 3",
   "language": "python",
   "name": "python3"
  },
  "language_info": {
   "codemirror_mode": {
    "name": "ipython",
    "version": 3
   },
   "file_extension": ".py",
   "mimetype": "text/x-python",
   "name": "python",
   "nbconvert_exporter": "python",
   "pygments_lexer": "ipython3",
   "version": "3.7.1"
  }
 },
 "nbformat": 4,
 "nbformat_minor": 2
}
