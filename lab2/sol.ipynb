{
 "cells": [
  {
   "cell_type": "markdown",
   "metadata": {},
   "source": [
    "# Στοχαστικές Διαδικασίες - 2η Εργαστηριακή Άσκηση\n",
    "\n",
    "## Στοιχεία Φοιτητή:\n",
    "* Ονοματεπώνυμο: Ιωάννης Δάρας\n",
    "* Αριθμός Μητρώου: 03115018\n",
    "* Σχολή: ΗΜΜΥ, ΕΜΠ\n",
    "* Εξάμηνο: 8ο\n",
    "* E-mail: daras.giannhs@gmail.com"
   ]
  },
  {
   "cell_type": "markdown",
   "metadata": {},
   "source": [
    "## Στόχος εργαστηρίου\n",
    "\n",
    "Στο εργαστήριο αυτό, χρησιμοποιούμε τη μέθοδο Monte Carlo προκειμένου να εκτιμήσουμε πιθανότητες γεγονότων που αφορούν στοχαστικές διαδικασίες αλλά και να προσεγγίσουμε τη μέση τιμή και τη διασπορά στοχαστικών διαδικασιών."
   ]
  },
  {
   "cell_type": "markdown",
   "metadata": {},
   "source": [
    "### Ασκήσεις 33-35"
   ]
  },
  {
   "cell_type": "markdown",
   "metadata": {},
   "source": [
    "Αρχικά, κάνουμε τα απαραίτητα imports."
   ]
  },
  {
   "cell_type": "code",
   "execution_count": 1,
   "metadata": {},
   "outputs": [],
   "source": [
    "import random\n",
    "from simple_markov_chain_lib import markov_chain\n",
    "import numpy as np"
   ]
  },
  {
   "cell_type": "markdown",
   "metadata": {},
   "source": [
    "Στη συνεχεια, φτιάχνουμε τη ζητούμενη αλυσίδα."
   ]
  },
  {
   "cell_type": "code",
   "execution_count": 2,
   "metadata": {},
   "outputs": [],
   "source": [
    "p = 1/6\n",
    "init_probs = {1: 1.0} \n",
    "markov_table = {\n",
    "    1: {2: 1.},\n",
    "    2: {2: 2/3, 3: 1/3},\n",
    "    3: {1: p, 2: 1-p}\n",
    "}\n",
    "mc = markov_chain(markov_table, init_probs)"
   ]
  },
  {
   "cell_type": "markdown",
   "metadata": {},
   "source": [
    "Θέλουμε να εκτιμήσουμε την πιθανότητα: \n",
    "\n",
    "$$P[X_{20} = 3]$$.\n",
    "\n",
    "\n",
    "Για να είμαστε ακριβρείς, κάνουμε M εκτιμήσεις αυτής της πιθανότητας. Κάθε εκτίμηση γίνεται παρατηρώντας την κατάσταση της αλυσίδας N φορές.\n",
    "\n",
    "Εκτός από την εκτίμηση της μέσης τιμής των εκτιμήσεων, ενδιαφερόμαστε και για την διασπορά τους. \n",
    "Όλα αυτά φαίνονται στο ακόλουθο κομμάτι κώδικα:"
   ]
  },
  {
   "cell_type": "code",
   "execution_count": 3,
   "metadata": {},
   "outputs": [],
   "source": [
    "def get_avg_var_of_estimations(mc, M, N, steps, target_state):\n",
    "    ''' \n",
    "    Estimate the E[A], V[A] where A = P[X_steps = target_state]\n",
    "    Args:\n",
    "        mc: markov chain\n",
    "        M: number of estimations (int)\n",
    "        N: number of samples (int)\n",
    "        steps: the step we are interested in (int)\n",
    "    Returns: \n",
    "        (a, b): the average estimation and the variance of the estimations\n",
    "    '''\n",
    "    estimations = np.empty(M)\n",
    "    for i in range(M):\n",
    "        counter = 0\n",
    "        for j in range(N):\n",
    "            mc.start()\n",
    "            for k in range(steps):\n",
    "                mc.move()\n",
    "            if mc.running_state == target_state:\n",
    "                counter += 1\n",
    "        estimations[i] = counter / N\n",
    "    return np.average(estimations), np.var(estimations)"
   ]
  },
  {
   "cell_type": "markdown",
   "metadata": {},
   "source": [
    "Στη συνέχεια, φτιάχνουμε μια συνάρτηση για το θεωρητικό υπολογισμό της μέσης τιμής"
   ]
  },
  {
   "cell_type": "code",
   "execution_count": 4,
   "metadata": {},
   "outputs": [],
   "source": [
    "def get_theoretical_avg(prob, init_state, finish_state):\n",
    "    return np.linalg.matrix_power(prob, 200)[init_state - 1][finish_state - 1]"
   ]
  },
  {
   "cell_type": "markdown",
   "metadata": {},
   "source": [
    "### Απαντήσεις ερωτημάτων\n",
    "\n",
    "    1. "
   ]
  },
  {
   "cell_type": "code",
   "execution_count": 5,
   "metadata": {},
   "outputs": [
    {
     "name": "stdout",
     "output_type": "stream",
     "text": [
      "Average estimation N=200:0.24049999999999996, N=20000:0.24022099999999993\n"
     ]
    }
   ],
   "source": [
    "E0, V0 = get_avg_var_of_estimations(mc, 50, 200, 20, 3)\n",
    "E1, V1 = get_avg_var_of_estimations(mc, 50, 20000, 20, 3)\n",
    "print('Average estimation N=200:{}, N=20000:{}'.format(E0, E1))"
   ]
  },
  {
   "cell_type": "markdown",
   "metadata": {},
   "source": [
    "    2. \n",
    " "
   ]
  },
  {
   "cell_type": "code",
   "execution_count": 6,
   "metadata": {},
   "outputs": [
    {
     "name": "stdout",
     "output_type": "stream",
     "text": [
      "0.2399999999999995\n"
     ]
    }
   ],
   "source": [
    "prob = np.array([\n",
    "        [0, 1, 0],\n",
    "        [0, 2/3, 1/3],\n",
    "        [p, 1-p, 0]])\n",
    "print(get_theoretical_avg(prob, 1, 3))"
   ]
  },
  {
   "cell_type": "markdown",
   "metadata": {},
   "source": [
    "Όπως φαίνεται παραπάνω, τα αποτελέσματα συμφωνούν σε μεγάλο βαθμό με τη θεωρητική τιμή. Μάλιστα, όσο αυξάνεται ο αριθμός των δειγμάτων τόσο μειώνεται η διαφορά της θεωρητικής τιμής από την εκτιμώμενη."
   ]
  },
  {
   "cell_type": "markdown",
   "metadata": {},
   "source": [
    "    3."
   ]
  },
  {
   "cell_type": "code",
   "execution_count": 7,
   "metadata": {},
   "outputs": [
    {
     "name": "stdout",
     "output_type": "stream",
     "text": [
      "Variance of estimations N=200:0.00131125, N=20000:1.3570909000000016e-05\n"
     ]
    }
   ],
   "source": [
    "print('Variance of estimations N=200:{}, N=20000:{}'.format(V0, V1))"
   ]
  },
  {
   "cell_type": "markdown",
   "metadata": {},
   "source": [
    "    4."
   ]
  },
  {
   "cell_type": "code",
   "execution_count": 8,
   "metadata": {},
   "outputs": [
    {
     "name": "stdout",
     "output_type": "stream",
     "text": [
      "Average estimation N=200:0.24359999999999998, N=20000:0.239934\n",
      "Variance of estimations N=200:0.0006860400000000002, N=20000:7.535543999999996e-06\n"
     ]
    }
   ],
   "source": [
    "init_probs = {3: 1.0}\n",
    "mc = markov_chain(markov_table, init_probs)\n",
    "E0, V0 = get_avg_var_of_estimations(mc, 50, 200, 20, 3)\n",
    "E1, V1 = get_avg_var_of_estimations(mc, 50, 20000, 20, 3)\n",
    "print('Average estimation N=200:{}, N=20000:{}'.format(E0, E1))\n",
    "print('Variance of estimations N=200:{}, N=20000:{}'.format(V0, V1))"
   ]
  },
  {
   "cell_type": "markdown",
   "metadata": {},
   "source": [
    "## Άσκηση 40"
   ]
  },
  {
   "cell_type": "markdown",
   "metadata": {},
   "source": [
    "Αρχικά, φτιάχνουμε την πίνακα της Μαρκοβιανής αλυσίδας."
   ]
  },
  {
   "cell_type": "code",
   "execution_count": 9,
   "metadata": {},
   "outputs": [],
   "source": [
    "p = 0.6\n",
    "markov_table = {\n",
    "    '0-0': {'15-0': p, '0-15': 1-p},\n",
    "    '15-0': {'30-0': p, '15-15': 1-p},\n",
    "    '15-15': {'30-15': p, '15-30': 1-p},\n",
    "    '30-15': {'40-15': p, 'Deuce': 1-p},\n",
    "    '30-0': {'40-0': p, '30-15': 1-p},\n",
    "    '40-0': {'GameA': p, '40-15': 1-p},\n",
    "    '40-15': {'GameA': p, 'AdvA': 1-p},\n",
    "    'GameA': {'GameA': 1},\n",
    "    'AdvA': {'GameA': p, 'Deuce': 1-p},\n",
    "    'Deuce': {'AdvA': p, 'AdvB': 1-p},\n",
    "    'AdvB': {'Deuce': p, 'GameB': 1-p},\n",
    "    'GameB': {'GameB': 1},\n",
    "    '0-15': {'15-15': p, '0-30': 1-p},\n",
    "    '0-30': {'15-30': p, '0-40': 1-p},\n",
    "    '15-30': {'Deuce': p, '15-40': 1-p},\n",
    "    '0-40': {'15-40': p, 'GameB': 1-p},\n",
    "    '15-40': {'AdvB': p, 'GameB': 1-p},\n",
    "}\n",
    "init_probs = {'0-0': 1.0}\n",
    "mc = markov_chain(markov_table, init_probs)"
   ]
  },
  {
   "cell_type": "markdown",
   "metadata": {},
   "source": [
    "Θέλουμε να εκτιμήσουμε την πιθανότητα νίκης με τη μέθοδο Monte Carlo. Γνωρίζουμε, ότι σε ένα παιχνίδι τένις δεν υπάρχει ισοπαλία, δηλαδή σε κάποια χρονική στιγμή θα κερδίσει κάποιος. Παρόλα αυτά, υπάρχει κύκλος στον οποίο μπορεί να μείνει για κάποιο χρόνο η αλυσίδα. Για παράδειγμα, μπορεί να συμβαίνει για πολύ χρόνο η κυκλική ακολουθία: AdvA, Deuce, AdvB. Επειδή υπάρχει θετική πιθανότητα να φύγουμε από αυτόν τον κύκλο, γνωρίζουμε ότι κάτι τέτοιο θα συμβεί, δηλαδή θα φτάσουμε σε μια από τις καταβόθρες GameA, GameB της στοχαστικής διαδικασίας. Όταν φτάσουμε σε μια τελική κατάσταση, κάνουμε την μέτρηση του νικητή και συνεχίζουμε.\n",
    "\n",
    "Όλα αυτά, φαίνονται στο ακόλουθο κομμάτι κώδικα:"
   ]
  },
  {
   "cell_type": "code",
   "execution_count": 10,
   "metadata": {},
   "outputs": [
    {
     "name": "stdout",
     "output_type": "stream",
     "text": [
      "0.73523\n"
     ]
    }
   ],
   "source": [
    "M = 50  # number of estimations\n",
    "N = 2000  # number of samples\n",
    "estimations = np.empty(M)\n",
    "for i in range(M):\n",
    "    counter = 0\n",
    "    for j in range(N):\n",
    "        mc.start()\n",
    "        while mc.running_state not in ['GameA', 'GameB']:\n",
    "            mc.move()\n",
    "        if (mc.running_state == 'GameA'):\n",
    "            counter += 1\n",
    "    estimations[i] = counter / N\n",
    "\n",
    "print(np.average(estimations))"
   ]
  }
 ],
 "metadata": {
  "kernelspec": {
   "display_name": "Python 3",
   "language": "python",
   "name": "python3"
  },
  "language_info": {
   "codemirror_mode": {
    "name": "ipython",
    "version": 3
   },
   "file_extension": ".py",
   "mimetype": "text/x-python",
   "name": "python",
   "nbconvert_exporter": "python",
   "pygments_lexer": "ipython3",
   "version": "3.7.1"
  }
 },
 "nbformat": 4,
 "nbformat_minor": 2
}
